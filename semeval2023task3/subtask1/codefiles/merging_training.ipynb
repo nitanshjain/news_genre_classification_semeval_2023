{
 "cells": [
  {
   "cell_type": "code",
   "execution_count": 16,
   "metadata": {},
   "outputs": [],
   "source": [
    "import pandas as pd\n",
    "import numpy as np"
   ]
  },
  {
   "cell_type": "code",
   "execution_count": 17,
   "metadata": {},
   "outputs": [],
   "source": [
    "en_train_df = pd.read_csv('/Users/nitanshjain/Documents/Projects/Sem_Eval/semeval2023task3/preprocessed_data/prev_data/en_train_subtask_1.csv')\n",
    "fr_train_df = pd.read_csv('/Users/nitanshjain/Documents/Projects/Sem_Eval/semeval2023task3/preprocessed_data/prev_data/fr_train_subtask_1.csv')\n",
    "ge_train_df = pd.read_csv('/Users/nitanshjain/Documents/Projects/Sem_Eval/semeval2023task3/preprocessed_data/prev_data/ge_train_subtask_1.csv')\n",
    "it_train_df = pd.read_csv('/Users/nitanshjain/Documents/Projects/Sem_Eval/semeval2023task3/preprocessed_data/prev_data/it_train_subtask_1.csv')\n",
    "po_train_df = pd.read_csv('/Users/nitanshjain/Documents/Projects/Sem_Eval/semeval2023task3/preprocessed_data/prev_data/po_train_subtask_1.csv')\n",
    "ru_train_df = pd.read_csv('/Users/nitanshjain/Documents/Projects/Sem_Eval/semeval2023task3/preprocessed_data/prev_data/ru_train_subtask_1.csv')\n",
    "fr_dev_df = pd.read_csv('/Users/nitanshjain/Documents/Projects/Sem_Eval/semeval2023task3/preprocessed_data/prev_data/fr_dev_subtask_1.csv')\n",
    "ge_dev_df = pd.read_csv('/Users/nitanshjain/Documents/Projects/Sem_Eval/semeval2023task3/preprocessed_data/prev_data/ge_dev_subtask_1.csv')\n",
    "it_dev_df = pd.read_csv('/Users/nitanshjain/Documents/Projects/Sem_Eval/semeval2023task3/preprocessed_data/prev_data/it_dev_subtask_1.csv')\n",
    "po_dev_df = pd.read_csv('/Users/nitanshjain/Documents/Projects/Sem_Eval/semeval2023task3/preprocessed_data/prev_data/po_dev_subtask_1.csv')\n",
    "ru_dev_df = pd.read_csv('/Users/nitanshjain/Documents/Projects/Sem_Eval/semeval2023task3/preprocessed_data/prev_data/ru_dev_subtask_1.csv')"
   ]
  },
  {
   "cell_type": "code",
   "execution_count": 18,
   "metadata": {},
   "outputs": [
    {
     "name": "stdout",
     "output_type": "stream",
     "text": [
      "(433, 10)\n",
      "(157, 10)\n",
      "(132, 10)\n",
      "(226, 10)\n",
      "(144, 10)\n",
      "(87, 10)\n",
      "(54, 10)\n",
      "(45, 10)\n",
      "(76, 10)\n",
      "(50, 10)\n",
      "(34, 10)\n"
     ]
    }
   ],
   "source": [
    "print(en_train_df.shape)\n",
    "print(fr_train_df.shape)\n",
    "print(ge_train_df.shape)\n",
    "print(it_train_df.shape)\n",
    "print(po_train_df.shape)\n",
    "print(ru_train_df.shape)\n",
    "print(fr_dev_df.shape)\n",
    "print(ge_dev_df.shape)\n",
    "print(it_dev_df.shape)\n",
    "print(po_dev_df.shape)\n",
    "print(ru_dev_df.shape)"
   ]
  },
  {
   "cell_type": "code",
   "execution_count": 19,
   "metadata": {},
   "outputs": [],
   "source": [
    "# fr_train_df.drop(['Unnamed: 0'], axis=1, inplace=True)\n",
    "# ge_train_df.drop(['Unnamed: 0'], axis=1, inplace=True)\n",
    "# it_train_df.drop(['Unnamed: 0'], axis=1, inplace=True)\n",
    "# po_train_df.drop(['Unnamed: 0'], axis=1, inplace=True)\n",
    "# ru_train_df.drop(['Unnamed: 0'], axis=1, inplace=True)\n",
    "# fr_dev_df.drop(['Unnamed: 0'], axis=1, inplace=True)\n",
    "# ge_dev_df.drop(['Unnamed: 0'], axis=1, inplace=True)\n",
    "# it_dev_df.drop(['Unnamed: 0'], axis=1, inplace=True)\n",
    "# po_dev_df.drop(['Unnamed: 0'], axis=1, inplace=True)\n",
    "# ru_dev_df.drop(['Unnamed: 0'], axis=1, inplace=True)"
   ]
  },
  {
   "cell_type": "code",
   "execution_count": 20,
   "metadata": {},
   "outputs": [
    {
     "data": {
      "text/html": [
       "<div>\n",
       "<style scoped>\n",
       "    .dataframe tbody tr th:only-of-type {\n",
       "        vertical-align: middle;\n",
       "    }\n",
       "\n",
       "    .dataframe tbody tr th {\n",
       "        vertical-align: top;\n",
       "    }\n",
       "\n",
       "    .dataframe thead th {\n",
       "        text-align: right;\n",
       "    }\n",
       "</style>\n",
       "<table border=\"1\" class=\"dataframe\">\n",
       "  <thead>\n",
       "    <tr style=\"text-align: right;\">\n",
       "      <th></th>\n",
       "      <th>id</th>\n",
       "      <th>genre</th>\n",
       "      <th>headlines</th>\n",
       "      <th>articles</th>\n",
       "      <th>preprocessed_headlines</th>\n",
       "      <th>pos_tags_headlines</th>\n",
       "      <th>er_tags_headlines</th>\n",
       "      <th>preprocessed_articles</th>\n",
       "      <th>pos_tags_articles</th>\n",
       "      <th>er_tags_articles</th>\n",
       "    </tr>\n",
       "  </thead>\n",
       "  <tbody>\n",
       "    <tr>\n",
       "      <th>0</th>\n",
       "      <td>833042063</td>\n",
       "      <td>satire</td>\n",
       "      <td>Chelsea Handler Admits She’s ‘Very Sexually At...</td>\n",
       "      <td>Far-left comedienne Chelsea Handler has admitt...</td>\n",
       "      <td>chelsea handler admit she very sexually attrac...</td>\n",
       "      <td>[(chelsea, 'NNP'), (handler, 'NNP'), (admit, '...</td>\n",
       "      <td>[(chelsea handler, 'PERSON', 380), (robert mue...</td>\n",
       "      <td>far leave comedienne chelsea handler have admi...</td>\n",
       "      <td>[(far, 'RB'), (leave, 'VB'), (comedienne, 'NNP...</td>\n",
       "      <td>[(chelsea handler, 'PERSON', 380), (fbi, 'ORG'...</td>\n",
       "    </tr>\n",
       "    <tr>\n",
       "      <th>1</th>\n",
       "      <td>832959523</td>\n",
       "      <td>satire</td>\n",
       "      <td>How Theresa May Botched\\n</td>\n",
       "      <td>Those were the times…\\nThe Times page 1 is of ...</td>\n",
       "      <td>how theresa may botched</td>\n",
       "      <td>[(how, 'WRB'), (theresa, 'NN'), (may, 'MD'), (...</td>\n",
       "      <td>[]</td>\n",
       "      <td>those be the time the time page be of january ...</td>\n",
       "      <td>[(those, 'DT'), (be, 'VBP'), (the, 'DT'), (tim...</td>\n",
       "      <td>[(january 18 2017, 'DATE', 391), (the united k...</td>\n",
       "    </tr>\n",
       "    <tr>\n",
       "      <th>2</th>\n",
       "      <td>833039623</td>\n",
       "      <td>satire</td>\n",
       "      <td>Robert Mueller III Rests His Case—Dems NEVER W...</td>\n",
       "      <td>Carload of crazies headed to the White House w...</td>\n",
       "      <td>robert mueller iii rest his case dem never will</td>\n",
       "      <td>[(robert, 'NNP'), (mueller, 'NNP'), (iii, 'NNP...</td>\n",
       "      <td>[(robert mueller iii, 'PERSON', 380), (dem, 'N...</td>\n",
       "      <td>carload of crazy head to the white house want ...</td>\n",
       "      <td>[(carload, 'NN'), (of, 'IN'), (crazy, 'JJ'), (...</td>\n",
       "      <td>[(the white house, 'ORG', 383), (america, 'GPE...</td>\n",
       "    </tr>\n",
       "    <tr>\n",
       "      <th>3</th>\n",
       "      <td>833032367</td>\n",
       "      <td>satire</td>\n",
       "      <td>Robert Mueller Not Recommending Any More Indic...</td>\n",
       "      <td>But of course, this makes no difference to the...</td>\n",
       "      <td>robert mueller not recommend any more indictment</td>\n",
       "      <td>[(robert, 'NNP'), (mueller, 'NNP'), (not, 'RB'...</td>\n",
       "      <td>[(robert mueller, 'PERSON', 380)]</td>\n",
       "      <td>but of course this make no difference to the p...</td>\n",
       "      <td>[(but, 'CC'), (of, 'IN'), (course, 'NN'), (thi...</td>\n",
       "      <td>[(the new york times, 'ORG', 383), (late frida...</td>\n",
       "    </tr>\n",
       "    <tr>\n",
       "      <th>4</th>\n",
       "      <td>814777937</td>\n",
       "      <td>satire</td>\n",
       "      <td>The Far Right Is Trying to Co-opt the Yellow V...</td>\n",
       "      <td>This weekend in Manchester, England, Yellow Ve...</td>\n",
       "      <td>the far right be try to co opt the yellow vest</td>\n",
       "      <td>[(the, 'DT'), (far, 'RB'), (right, 'NN'), (be,...</td>\n",
       "      <td>[]</td>\n",
       "      <td>this weekend in manchester england yellow vest...</td>\n",
       "      <td>[(this, 'DT'), (weekend, 'NN'), (in, 'IN'), (m...</td>\n",
       "      <td>[(this weekend, 'DATE', 391), (manchester engl...</td>\n",
       "    </tr>\n",
       "  </tbody>\n",
       "</table>\n",
       "</div>"
      ],
      "text/plain": [
       "          id   genre                                          headlines  \\\n",
       "0  833042063  satire  Chelsea Handler Admits She’s ‘Very Sexually At...   \n",
       "1  832959523  satire                          How Theresa May Botched\\n   \n",
       "2  833039623  satire  Robert Mueller III Rests His Case—Dems NEVER W...   \n",
       "3  833032367  satire  Robert Mueller Not Recommending Any More Indic...   \n",
       "4  814777937  satire  The Far Right Is Trying to Co-opt the Yellow V...   \n",
       "\n",
       "                                            articles  \\\n",
       "0  Far-left comedienne Chelsea Handler has admitt...   \n",
       "1  Those were the times…\\nThe Times page 1 is of ...   \n",
       "2  Carload of crazies headed to the White House w...   \n",
       "3  But of course, this makes no difference to the...   \n",
       "4  This weekend in Manchester, England, Yellow Ve...   \n",
       "\n",
       "                              preprocessed_headlines  \\\n",
       "0  chelsea handler admit she very sexually attrac...   \n",
       "1                            how theresa may botched   \n",
       "2    robert mueller iii rest his case dem never will   \n",
       "3   robert mueller not recommend any more indictment   \n",
       "4     the far right be try to co opt the yellow vest   \n",
       "\n",
       "                                  pos_tags_headlines  \\\n",
       "0  [(chelsea, 'NNP'), (handler, 'NNP'), (admit, '...   \n",
       "1  [(how, 'WRB'), (theresa, 'NN'), (may, 'MD'), (...   \n",
       "2  [(robert, 'NNP'), (mueller, 'NNP'), (iii, 'NNP...   \n",
       "3  [(robert, 'NNP'), (mueller, 'NNP'), (not, 'RB'...   \n",
       "4  [(the, 'DT'), (far, 'RB'), (right, 'NN'), (be,...   \n",
       "\n",
       "                                   er_tags_headlines  \\\n",
       "0  [(chelsea handler, 'PERSON', 380), (robert mue...   \n",
       "1                                                 []   \n",
       "2  [(robert mueller iii, 'PERSON', 380), (dem, 'N...   \n",
       "3                  [(robert mueller, 'PERSON', 380)]   \n",
       "4                                                 []   \n",
       "\n",
       "                               preprocessed_articles  \\\n",
       "0  far leave comedienne chelsea handler have admi...   \n",
       "1  those be the time the time page be of january ...   \n",
       "2  carload of crazy head to the white house want ...   \n",
       "3  but of course this make no difference to the p...   \n",
       "4  this weekend in manchester england yellow vest...   \n",
       "\n",
       "                                   pos_tags_articles  \\\n",
       "0  [(far, 'RB'), (leave, 'VB'), (comedienne, 'NNP...   \n",
       "1  [(those, 'DT'), (be, 'VBP'), (the, 'DT'), (tim...   \n",
       "2  [(carload, 'NN'), (of, 'IN'), (crazy, 'JJ'), (...   \n",
       "3  [(but, 'CC'), (of, 'IN'), (course, 'NN'), (thi...   \n",
       "4  [(this, 'DT'), (weekend, 'NN'), (in, 'IN'), (m...   \n",
       "\n",
       "                                    er_tags_articles  \n",
       "0  [(chelsea handler, 'PERSON', 380), (fbi, 'ORG'...  \n",
       "1  [(january 18 2017, 'DATE', 391), (the united k...  \n",
       "2  [(the white house, 'ORG', 383), (america, 'GPE...  \n",
       "3  [(the new york times, 'ORG', 383), (late frida...  \n",
       "4  [(this weekend, 'DATE', 391), (manchester engl...  "
      ]
     },
     "execution_count": 20,
     "metadata": {},
     "output_type": "execute_result"
    }
   ],
   "source": [
    "en_train_df.head()"
   ]
  },
  {
   "cell_type": "code",
   "execution_count": 21,
   "metadata": {},
   "outputs": [
    {
     "name": "stdout",
     "output_type": "stream",
     "text": [
      "(1438, 10)\n",
      "opinion      1074\n",
      "reporting     271\n",
      "satire         93\n",
      "Name: genre, dtype: int64\n"
     ]
    }
   ],
   "source": [
    "train_df = pd.concat([en_train_df, fr_train_df, ge_train_df, it_train_df, po_train_df, ru_train_df, fr_dev_df, ge_dev_df, it_dev_df, po_dev_df, ru_dev_df])\n",
    "print(train_df.shape)\n",
    "print(train_df.genre.value_counts())"
   ]
  },
  {
   "cell_type": "code",
   "execution_count": 22,
   "metadata": {},
   "outputs": [],
   "source": [
    "filename = '/Users/nitanshjain/Documents/Projects/Sem_Eval/semeval2023task3/preprocessed_data/prev_data/final_train_subtask_1.csv'\n",
    "train_df.to_csv(filename, index=True)"
   ]
  },
  {
   "cell_type": "code",
   "execution_count": 23,
   "metadata": {},
   "outputs": [
    {
     "data": {
      "text/plain": [
       "'@'"
      ]
     },
     "execution_count": 23,
     "metadata": {},
     "output_type": "execute_result"
    }
   ],
   "source": [
    "'@'"
   ]
  }
 ],
 "metadata": {
  "kernelspec": {
   "display_name": "Sem_Eval-qQJYuRaW",
   "language": "python",
   "name": "python3"
  },
  "language_info": {
   "codemirror_mode": {
    "name": "ipython",
    "version": 3
   },
   "file_extension": ".py",
   "mimetype": "text/x-python",
   "name": "python",
   "nbconvert_exporter": "python",
   "pygments_lexer": "ipython3",
   "version": "3.10.4"
  },
  "orig_nbformat": 4,
  "vscode": {
   "interpreter": {
    "hash": "e5bd67ae72067af90d04bfe162c4dbae485f2bc9cd35e8ebfff36ec4914b703f"
   }
  }
 },
 "nbformat": 4,
 "nbformat_minor": 2
}
