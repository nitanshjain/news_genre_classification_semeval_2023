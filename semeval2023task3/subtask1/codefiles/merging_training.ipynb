{
 "cells": [
  {
   "attachments": {},
   "cell_type": "markdown",
   "metadata": {},
   "source": [
    "# Importing Libraries"
   ]
  },
  {
   "cell_type": "code",
   "execution_count": 16,
   "metadata": {},
   "outputs": [],
   "source": [
    "import pandas as pd\n",
    "import numpy as np"
   ]
  },
  {
   "attachments": {},
   "cell_type": "markdown",
   "metadata": {},
   "source": [
    "# Merging the training and dev csv files of different languages into one file for easier use while training the models"
   ]
  },
  {
   "cell_type": "code",
   "execution_count": 17,
   "metadata": {},
   "outputs": [],
   "source": [
    "# reading the data\n",
    "en_train_df = pd.read_csv('/Users/nitanshjain/Documents/Projects/Sem_Eval/semeval2023task3/preprocessed_data/prev_data/en_train_subtask_1.csv')\n",
    "fr_train_df = pd.read_csv('/Users/nitanshjain/Documents/Projects/Sem_Eval/semeval2023task3/preprocessed_data/prev_data/fr_train_subtask_1.csv')\n",
    "ge_train_df = pd.read_csv('/Users/nitanshjain/Documents/Projects/Sem_Eval/semeval2023task3/preprocessed_data/prev_data/ge_train_subtask_1.csv')\n",
    "it_train_df = pd.read_csv('/Users/nitanshjain/Documents/Projects/Sem_Eval/semeval2023task3/preprocessed_data/prev_data/it_train_subtask_1.csv')\n",
    "po_train_df = pd.read_csv('/Users/nitanshjain/Documents/Projects/Sem_Eval/semeval2023task3/preprocessed_data/prev_data/po_train_subtask_1.csv')\n",
    "ru_train_df = pd.read_csv('/Users/nitanshjain/Documents/Projects/Sem_Eval/semeval2023task3/preprocessed_data/prev_data/ru_train_subtask_1.csv')\n",
    "\n",
    "fr_dev_df = pd.read_csv('/Users/nitanshjain/Documents/Projects/Sem_Eval/semeval2023task3/preprocessed_data/prev_data/fr_dev_subtask_1.csv')\n",
    "ge_dev_df = pd.read_csv('/Users/nitanshjain/Documents/Projects/Sem_Eval/semeval2023task3/preprocessed_data/prev_data/ge_dev_subtask_1.csv')\n",
    "it_dev_df = pd.read_csv('/Users/nitanshjain/Documents/Projects/Sem_Eval/semeval2023task3/preprocessed_data/prev_data/it_dev_subtask_1.csv')\n",
    "po_dev_df = pd.read_csv('/Users/nitanshjain/Documents/Projects/Sem_Eval/semeval2023task3/preprocessed_data/prev_data/po_dev_subtask_1.csv')\n",
    "ru_dev_df = pd.read_csv('/Users/nitanshjain/Documents/Projects/Sem_Eval/semeval2023task3/preprocessed_data/prev_data/ru_dev_subtask_1.csv')"
   ]
  },
  {
   "cell_type": "code",
   "execution_count": 18,
   "metadata": {},
   "outputs": [
    {
     "name": "stdout",
     "output_type": "stream",
     "text": [
      "(433, 10)\n",
      "(157, 10)\n",
      "(132, 10)\n",
      "(226, 10)\n",
      "(144, 10)\n",
      "(87, 10)\n",
      "(54, 10)\n",
      "(45, 10)\n",
      "(76, 10)\n",
      "(50, 10)\n",
      "(34, 10)\n"
     ]
    }
   ],
   "source": [
    "# printing the shape of all the dataframes\n",
    "print(en_train_df.shape)\n",
    "print(fr_train_df.shape)\n",
    "print(ge_train_df.shape)\n",
    "print(it_train_df.shape)\n",
    "print(po_train_df.shape)\n",
    "print(ru_train_df.shape)\n",
    "print(fr_dev_df.shape)\n",
    "print(ge_dev_df.shape)\n",
    "print(it_dev_df.shape)\n",
    "print(po_dev_df.shape)\n",
    "print(ru_dev_df.shape)"
   ]
  },
  {
   "cell_type": "code",
   "execution_count": 19,
   "metadata": {},
   "outputs": [],
   "source": [
    "# fr_train_df.drop(['Unnamed: 0'], axis=1, inplace=True)\n",
    "# ge_train_df.drop(['Unnamed: 0'], axis=1, inplace=True)\n",
    "# it_train_df.drop(['Unnamed: 0'], axis=1, inplace=True)\n",
    "# po_train_df.drop(['Unnamed: 0'], axis=1, inplace=True)\n",
    "# ru_train_df.drop(['Unnamed: 0'], axis=1, inplace=True)\n",
    "# fr_dev_df.drop(['Unnamed: 0'], axis=1, inplace=True)\n",
    "# ge_dev_df.drop(['Unnamed: 0'], axis=1, inplace=True)\n",
    "# it_dev_df.drop(['Unnamed: 0'], axis=1, inplace=True)\n",
    "# po_dev_df.drop(['Unnamed: 0'], axis=1, inplace=True)\n",
    "# ru_dev_df.drop(['Unnamed: 0'], axis=1, inplace=True)"
   ]
  },
  {
   "cell_type": "code",
   "execution_count": 21,
   "metadata": {},
   "outputs": [
    {
     "name": "stdout",
     "output_type": "stream",
     "text": [
      "(1438, 10)\n",
      "opinion      1074\n",
      "reporting     271\n",
      "satire         93\n",
      "Name: genre, dtype: int64\n"
     ]
    }
   ],
   "source": [
    "# merging the dataframes into train_df\n",
    "train_df = pd.concat([en_train_df, fr_train_df, ge_train_df, it_train_df, po_train_df, ru_train_df, fr_dev_df, ge_dev_df, it_dev_df, po_dev_df, ru_dev_df])\n",
    "print(train_df.shape)                   # printing the shape of the merged dataframe\n",
    "print(train_df.genre.value_counts())    # printing the value counts of the genre column"
   ]
  },
  {
   "cell_type": "code",
   "execution_count": 22,
   "metadata": {},
   "outputs": [],
   "source": [
    "# converting dataframe to csv file\n",
    "filename = '/Users/nitanshjain/Documents/Projects/Sem_Eval/semeval2023task3/preprocessed_data/prev_data/final_train_subtask_1.csv'\n",
    "train_df.to_csv(filename, index=True)"
   ]
  }
 ],
 "metadata": {
  "kernelspec": {
   "display_name": "Sem_Eval-qQJYuRaW",
   "language": "python",
   "name": "python3"
  },
  "language_info": {
   "codemirror_mode": {
    "name": "ipython",
    "version": 3
   },
   "file_extension": ".py",
   "mimetype": "text/x-python",
   "name": "python",
   "nbconvert_exporter": "python",
   "pygments_lexer": "ipython3",
   "version": "3.10.4"
  },
  "orig_nbformat": 4,
  "vscode": {
   "interpreter": {
    "hash": "e5bd67ae72067af90d04bfe162c4dbae485f2bc9cd35e8ebfff36ec4914b703f"
   }
  }
 },
 "nbformat": 4,
 "nbformat_minor": 2
}
