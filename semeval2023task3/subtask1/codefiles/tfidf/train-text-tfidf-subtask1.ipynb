{
 "cells": [
  {
   "cell_type": "code",
   "execution_count": 1,
   "metadata": {},
   "outputs": [
    {
     "name": "stderr",
     "output_type": "stream",
     "text": [
      "2023-01-07 12:40:01.777107: I tensorflow/core/platform/cpu_feature_guard.cc:193] This TensorFlow binary is optimized with oneAPI Deep Neural Network Library (oneDNN) to use the following CPU instructions in performance-critical operations:  AVX2 FMA\n",
      "To enable them in other operations, rebuild TensorFlow with the appropriate compiler flags.\n"
     ]
    }
   ],
   "source": [
    "import pandas as pd\n",
    "import numpy as np\n",
    "import nltk\n",
    "import tensorflow\n",
    "\n",
    "from sklearn.preprocessing import LabelEncoder\n",
    "from sklearn.model_selection import train_test_split, GridSearchCV, RepeatedStratifiedKFold\n",
    "from sklearn.feature_extraction.text import CountVectorizer, TfidfVectorizer\n",
    "from sklearn.metrics import confusion_matrix, classification_report\n",
    "\n",
    "seed = 2000\n",
    "np.random.seed(seed)\n",
    "from tensorflow.keras import regularizers\n",
    "from tensorflow.keras.models import Model, Sequential\n",
    "from tensorflow.keras.layers import BatchNormalization, Dropout, Flatten, Dense, Embedding\n",
    "from tensorflow.keras.layers import LSTM, Conv1D, MaxPooling1D\n",
    "from tensorflow.keras.preprocessing import sequence\n",
    "\n",
    "import warnings\n",
    "warnings.filterwarnings(\"ignore\")"
   ]
  },
  {
   "cell_type": "code",
   "execution_count": 2,
   "metadata": {},
   "outputs": [
    {
     "name": "stdout",
     "output_type": "stream",
     "text": [
      "(433, 10)\n",
      "opinion      382\n",
      "reporting     41\n",
      "satire        10\n",
      "Name: genre, dtype: int64\n"
     ]
    }
   ],
   "source": [
    "train_sub1_df = pd.read_csv('/Users/nitanshjain/Documents/Miscellaneous/SemEval/semeval2023task3/preprocessed_data/subtask1/train_subtask_1.csv')\n",
    "print(train_sub1_df.shape)\n",
    "train_sub1_df.head()\n",
    "print(train_sub1_df.genre.value_counts())"
   ]
  },
  {
   "cell_type": "code",
   "execution_count": 3,
   "metadata": {},
   "outputs": [
    {
     "name": "stdout",
     "output_type": "stream",
     "text": [
      "0    382\n",
      "1     41\n",
      "2     10\n",
      "Name: genre, dtype: int64\n"
     ]
    },
    {
     "data": {
      "text/html": [
       "<div>\n",
       "<style scoped>\n",
       "    .dataframe tbody tr th:only-of-type {\n",
       "        vertical-align: middle;\n",
       "    }\n",
       "\n",
       "    .dataframe tbody tr th {\n",
       "        vertical-align: top;\n",
       "    }\n",
       "\n",
       "    .dataframe thead th {\n",
       "        text-align: right;\n",
       "    }\n",
       "</style>\n",
       "<table border=\"1\" class=\"dataframe\">\n",
       "  <thead>\n",
       "    <tr style=\"text-align: right;\">\n",
       "      <th></th>\n",
       "      <th>id</th>\n",
       "      <th>genre</th>\n",
       "      <th>headlines</th>\n",
       "      <th>articles</th>\n",
       "      <th>preprocessed_headlines</th>\n",
       "      <th>pos_tags_headlines</th>\n",
       "      <th>er_tags_headlines</th>\n",
       "      <th>preprocessed_articles</th>\n",
       "      <th>pos_tags_articles</th>\n",
       "      <th>er_tags_articles</th>\n",
       "    </tr>\n",
       "  </thead>\n",
       "  <tbody>\n",
       "    <tr>\n",
       "      <th>0</th>\n",
       "      <td>833042063</td>\n",
       "      <td>2</td>\n",
       "      <td>Chelsea Handler Admits She’s ‘Very Sexually At...</td>\n",
       "      <td>Far-left comedienne Chelsea Handler has admitt...</td>\n",
       "      <td>chelsea handler admit she s very sexually attr...</td>\n",
       "      <td>[(Chelsea, 'NNP'), (Handler, 'NNP'), (admit, '...</td>\n",
       "      <td>[(Chelsea Handler, 'PERSON', 380), (Robert Mue...</td>\n",
       "      <td>far leave comedienne chelsea handler have admi...</td>\n",
       "      <td>[(far, 'RB'), (leave, 'VB'), (comedienne, 'NNP...</td>\n",
       "      <td>[(Chelsea Handler, 'PERSON', 380), (FBI Specia...</td>\n",
       "    </tr>\n",
       "    <tr>\n",
       "      <th>1</th>\n",
       "      <td>832959523</td>\n",
       "      <td>2</td>\n",
       "      <td>How Theresa May Botched\\n</td>\n",
       "      <td>Those were the times…\\nThe Times page 1 is of ...</td>\n",
       "      <td>how theresa may botch</td>\n",
       "      <td>[(how, 'WRB'), (Theresa, 'NNP'), (May, 'NNP'),...</td>\n",
       "      <td>[(Theresa, 'GPE', 384), (May, 'DATE', 391)]</td>\n",
       "      <td>those be the time the times page 1 be of janua...</td>\n",
       "      <td>[(those, 'DT'), (be, 'VBP'), (the, 'DT'), (tim...</td>\n",
       "      <td>[(Times, 'ORG', 383), (1, 'CARDINAL', 397), (J...</td>\n",
       "    </tr>\n",
       "    <tr>\n",
       "      <th>2</th>\n",
       "      <td>833039623</td>\n",
       "      <td>2</td>\n",
       "      <td>Robert Mueller III Rests His Case—Dems NEVER W...</td>\n",
       "      <td>Carload of crazies headed to the White House w...</td>\n",
       "      <td>robert mueller iii rest his case dems never will</td>\n",
       "      <td>[(Robert, 'NNP'), (Mueller, 'NNP'), (III, 'NNP...</td>\n",
       "      <td>[(Robert Mueller III, 'PERSON', 380), (Dems, '...</td>\n",
       "      <td>carload of crazy head to the white house want ...</td>\n",
       "      <td>[(Carload, 'NNP'), (of, 'IN'), (crazy, 'JJ'), ...</td>\n",
       "      <td>[(the White House, 'ORG', 383), (Barack Obama,...</td>\n",
       "    </tr>\n",
       "    <tr>\n",
       "      <th>3</th>\n",
       "      <td>833032367</td>\n",
       "      <td>2</td>\n",
       "      <td>Robert Mueller Not Recommending Any More Indic...</td>\n",
       "      <td>But of course, this makes no difference to the...</td>\n",
       "      <td>robert mueller not recommend any more indictment</td>\n",
       "      <td>[(Robert, 'NNP'), (Mueller, 'NNP'), (not, 'RB'...</td>\n",
       "      <td>[(Robert Mueller, 'PERSON', 380)]</td>\n",
       "      <td>but of course this make no difference to the p...</td>\n",
       "      <td>[(but, 'CC'), (of, 'IN'), (course, 'NN'), (thi...</td>\n",
       "      <td>[(the New York Times, 'ORG', 383), (late Frida...</td>\n",
       "    </tr>\n",
       "    <tr>\n",
       "      <th>4</th>\n",
       "      <td>814777937</td>\n",
       "      <td>2</td>\n",
       "      <td>The Far Right Is Trying to Co-opt the Yellow V...</td>\n",
       "      <td>This weekend in Manchester, England, Yellow Ve...</td>\n",
       "      <td>the far right be try to co opt the yellow vests</td>\n",
       "      <td>[(the, 'DT'), (Far, 'NNP'), (right, 'NN'), (be...</td>\n",
       "      <td>[]</td>\n",
       "      <td>this weekend in manchester england yellow vest...</td>\n",
       "      <td>[(this, 'DT'), (weekend, 'NN'), (in, 'IN'), (M...</td>\n",
       "      <td>[(this weekend, 'DATE', 391), (Manchester, 'GP...</td>\n",
       "    </tr>\n",
       "  </tbody>\n",
       "</table>\n",
       "</div>"
      ],
      "text/plain": [
       "          id  genre                                          headlines  \\\n",
       "0  833042063      2  Chelsea Handler Admits She’s ‘Very Sexually At...   \n",
       "1  832959523      2                          How Theresa May Botched\\n   \n",
       "2  833039623      2  Robert Mueller III Rests His Case—Dems NEVER W...   \n",
       "3  833032367      2  Robert Mueller Not Recommending Any More Indic...   \n",
       "4  814777937      2  The Far Right Is Trying to Co-opt the Yellow V...   \n",
       "\n",
       "                                            articles  \\\n",
       "0  Far-left comedienne Chelsea Handler has admitt...   \n",
       "1  Those were the times…\\nThe Times page 1 is of ...   \n",
       "2  Carload of crazies headed to the White House w...   \n",
       "3  But of course, this makes no difference to the...   \n",
       "4  This weekend in Manchester, England, Yellow Ve...   \n",
       "\n",
       "                              preprocessed_headlines  \\\n",
       "0  chelsea handler admit she s very sexually attr...   \n",
       "1                              how theresa may botch   \n",
       "2   robert mueller iii rest his case dems never will   \n",
       "3   robert mueller not recommend any more indictment   \n",
       "4    the far right be try to co opt the yellow vests   \n",
       "\n",
       "                                  pos_tags_headlines  \\\n",
       "0  [(Chelsea, 'NNP'), (Handler, 'NNP'), (admit, '...   \n",
       "1  [(how, 'WRB'), (Theresa, 'NNP'), (May, 'NNP'),...   \n",
       "2  [(Robert, 'NNP'), (Mueller, 'NNP'), (III, 'NNP...   \n",
       "3  [(Robert, 'NNP'), (Mueller, 'NNP'), (not, 'RB'...   \n",
       "4  [(the, 'DT'), (Far, 'NNP'), (right, 'NN'), (be...   \n",
       "\n",
       "                                   er_tags_headlines  \\\n",
       "0  [(Chelsea Handler, 'PERSON', 380), (Robert Mue...   \n",
       "1        [(Theresa, 'GPE', 384), (May, 'DATE', 391)]   \n",
       "2  [(Robert Mueller III, 'PERSON', 380), (Dems, '...   \n",
       "3                  [(Robert Mueller, 'PERSON', 380)]   \n",
       "4                                                 []   \n",
       "\n",
       "                               preprocessed_articles  \\\n",
       "0  far leave comedienne chelsea handler have admi...   \n",
       "1  those be the time the times page 1 be of janua...   \n",
       "2  carload of crazy head to the white house want ...   \n",
       "3  but of course this make no difference to the p...   \n",
       "4  this weekend in manchester england yellow vest...   \n",
       "\n",
       "                                   pos_tags_articles  \\\n",
       "0  [(far, 'RB'), (leave, 'VB'), (comedienne, 'NNP...   \n",
       "1  [(those, 'DT'), (be, 'VBP'), (the, 'DT'), (tim...   \n",
       "2  [(Carload, 'NNP'), (of, 'IN'), (crazy, 'JJ'), ...   \n",
       "3  [(but, 'CC'), (of, 'IN'), (course, 'NN'), (thi...   \n",
       "4  [(this, 'DT'), (weekend, 'NN'), (in, 'IN'), (M...   \n",
       "\n",
       "                                    er_tags_articles  \n",
       "0  [(Chelsea Handler, 'PERSON', 380), (FBI Specia...  \n",
       "1  [(Times, 'ORG', 383), (1, 'CARDINAL', 397), (J...  \n",
       "2  [(the White House, 'ORG', 383), (Barack Obama,...  \n",
       "3  [(the New York Times, 'ORG', 383), (late Frida...  \n",
       "4  [(this weekend, 'DATE', 391), (Manchester, 'GP...  "
      ]
     },
     "execution_count": 3,
     "metadata": {},
     "output_type": "execute_result"
    }
   ],
   "source": [
    "le = LabelEncoder()\n",
    "train_sub1_df['genre'] = le.fit_transform(train_sub1_df['genre'])\n",
    "print(train_sub1_df.genre.value_counts())\n",
    "train_sub1_df.head()"
   ]
  },
  {
   "cell_type": "code",
   "execution_count": 4,
   "metadata": {},
   "outputs": [],
   "source": [
    "from sklearn.feature_extraction.text import TfidfVectorizer \n",
    "\n",
    "x = train_sub1_df.preprocessed_articles + train_sub1_df.preprocessed_headlines\n",
    "y = train_sub1_df.genre\n",
    "\n",
    "tfidf_vectorizer = TfidfVectorizer(use_idf = True) \n",
    "tfidf_vectorizer.fit(x)\n",
    "\n",
    "x_tfidf = tfidf_vectorizer.transform(x).toarray()\n",
    "cv = RepeatedStratifiedKFold(n_splits=10, n_repeats=3, random_state=seed)"
   ]
  },
  {
   "attachments": {},
   "cell_type": "markdown",
   "metadata": {},
   "source": [
    "# KNN"
   ]
  },
  {
   "cell_type": "code",
   "execution_count": 5,
   "metadata": {},
   "outputs": [
    {
     "name": "stdout",
     "output_type": "stream",
     "text": [
      "Best Accuracy Score  0.8922128259337563\n",
      "Best Parameters {'n_neighbors': 6, 'weights': 'uniform'}\n"
     ]
    }
   ],
   "source": [
    "from sklearn.neighbors import KNeighborsClassifier\n",
    "knn_params = {\n",
    "    'n_neighbors':range(1,15),\n",
    "    'weights':['uniform', 'distance']\n",
    "}\n",
    "\n",
    "knn = KNeighborsClassifier()\n",
    "clf = GridSearchCV(knn, knn_params, cv=cv)\n",
    "clf.fit(x_tfidf, y)\n",
    "\n",
    "print('Best Accuracy Score ', clf.best_score_)\n",
    "print('Best Parameters', clf.best_params_)"
   ]
  },
  {
   "attachments": {},
   "cell_type": "markdown",
   "metadata": {},
   "source": [
    "# Logistic Regression"
   ]
  },
  {
   "cell_type": "code",
   "execution_count": 6,
   "metadata": {},
   "outputs": [
    {
     "name": "stdout",
     "output_type": "stream",
     "text": [
      "Best Accuracy Score  0.887632135306554\n",
      "Best Parameters {'C': 4.6415888336127775, 'penalty': 'l2'}\n"
     ]
    }
   ],
   "source": [
    "from sklearn.linear_model import LogisticRegression\n",
    "lr_params = {\n",
    "    'C':np.logspace(-2,2,7), \n",
    "    'penalty':['l1', 'l2', 'elasticnet', None]\n",
    "}\n",
    "\n",
    "lr = LogisticRegression()\n",
    "clf = GridSearchCV(lr, lr_params, cv=cv)\n",
    "clf.fit(x_tfidf, y)\n",
    "\n",
    "print('Best Accuracy Score ', clf.best_score_)\n",
    "print('Best Parameters', clf.best_params_)"
   ]
  },
  {
   "attachments": {},
   "cell_type": "markdown",
   "metadata": {},
   "source": [
    "# Decison Tree"
   ]
  },
  {
   "cell_type": "code",
   "execution_count": 7,
   "metadata": {},
   "outputs": [
    {
     "name": "stdout",
     "output_type": "stream",
     "text": [
      "Best Accuracy Score  0.8845313601127557\n",
      "Best Parameters {'criterion': 'gini', 'max_depth': 2, 'splitter': 'random'}\n"
     ]
    }
   ],
   "source": [
    "from sklearn.tree import DecisionTreeClassifier\n",
    "\n",
    "dt_params = {\n",
    "    'max_depth':range(2,15),\n",
    "    'criterion':['gini', 'entropy', 'log_loss'],\n",
    "    'splitter':['best', 'random']\n",
    "}\n",
    "\n",
    "dt = DecisionTreeClassifier()\n",
    "clf = GridSearchCV(dt, dt_params, cv=cv)\n",
    "clf.fit(x_tfidf, y)\n",
    "\n",
    "print('Best Accuracy Score ', clf.best_score_)\n",
    "print('Best Parameters', clf.best_params_)"
   ]
  },
  {
   "attachments": {},
   "cell_type": "markdown",
   "metadata": {},
   "source": [
    "# Random Forest Classifier"
   ]
  },
  {
   "cell_type": "code",
   "execution_count": 8,
   "metadata": {},
   "outputs": [
    {
     "name": "stdout",
     "output_type": "stream",
     "text": [
      "Best Accuracy Score  0.8822410147991546\n",
      "Best Parameters {'criterion': 'gini', 'max_depth': 3}\n"
     ]
    }
   ],
   "source": [
    "from sklearn.ensemble import RandomForestClassifier\n",
    "\n",
    "rfc_params = {\n",
    "    'max_depth':range(3,15),\n",
    "    'criterion':['gini', 'entropy', 'log_loss'],\n",
    "}\n",
    "\n",
    "rfc = RandomForestClassifier()\n",
    "clf = GridSearchCV(rfc, rfc_params, cv=cv)\n",
    "clf.fit(x_tfidf, y)\n",
    "\n",
    "print('Best Accuracy Score ', clf.best_score_)\n",
    "print('Best Parameters', clf.best_params_)"
   ]
  },
  {
   "attachments": {},
   "cell_type": "markdown",
   "metadata": {},
   "source": [
    "# Multinomial Naive Bayes"
   ]
  },
  {
   "cell_type": "code",
   "execution_count": 9,
   "metadata": {},
   "outputs": [
    {
     "name": "stdout",
     "output_type": "stream",
     "text": [
      "Train Accuracy Score 0.8822170900692841\n",
      "CPU times: user 78.8 ms, sys: 25.6 ms, total: 104 ms\n",
      "Wall time: 49.2 ms\n"
     ]
    }
   ],
   "source": [
    "%%time\n",
    "from sklearn.naive_bayes import MultinomialNB\n",
    "\n",
    "mnb = MultinomialNB()\n",
    "mnb.fit(x_tfidf, y)\n",
    "\n",
    "print('Train Accuracy Score', mnb.score(x_tfidf, y))"
   ]
  },
  {
   "attachments": {},
   "cell_type": "markdown",
   "metadata": {},
   "source": [
    "# SVM"
   ]
  },
  {
   "cell_type": "code",
   "execution_count": 10,
   "metadata": {},
   "outputs": [
    {
     "name": "stdout",
     "output_type": "stream",
     "text": [
      "Best Accuracy Score  0.8853241719520792\n",
      "Best Parameters {'degree': 2, 'kernel': 'poly'}\n"
     ]
    }
   ],
   "source": [
    "from sklearn.svm import SVC\n",
    "\n",
    "svc_params = {\n",
    "    'kernel':['linear', 'poly', 'rbf', 'sigmoid'],\n",
    "    'degree':range(2,5)\n",
    "}\n",
    "\n",
    "svc = SVC()\n",
    "clf = GridSearchCV(svc, svc_params, cv=cv)\n",
    "clf.fit(x_tfidf, y)\n",
    "\n",
    "print('Best Accuracy Score ', clf.best_score_)\n",
    "print('Best Parameters', clf.best_params_)"
   ]
  },
  {
   "attachments": {},
   "cell_type": "markdown",
   "metadata": {},
   "source": [
    "# Ada-Boosting"
   ]
  },
  {
   "cell_type": "code",
   "execution_count": 11,
   "metadata": {},
   "outputs": [
    {
     "name": "stdout",
     "output_type": "stream",
     "text": [
      "Train Accuracy Score 0.8822170900692841\n"
     ]
    }
   ],
   "source": [
    "from sklearn.ensemble import AdaBoostClassifier\n",
    "\n",
    "ada = AdaBoostClassifier()\n",
    "ada.fit(x_tfidf, y)\n",
    "\n",
    "print('Train Accuracy Score', ada.score(x_tfidf, y))"
   ]
  },
  {
   "attachments": {},
   "cell_type": "markdown",
   "metadata": {},
   "source": [
    "# LSTM"
   ]
  },
  {
   "cell_type": "code",
   "execution_count": null,
   "metadata": {},
   "outputs": [],
   "source": [
    "x_tfidf = x_tfidf[:,:,None]"
   ]
  },
  {
   "cell_type": "code",
   "execution_count": 32,
   "metadata": {},
   "outputs": [
    {
     "name": "stderr",
     "output_type": "stream",
     "text": [
      "2022-12-27 14:13:43.797353: I tensorflow/core/platform/cpu_feature_guard.cc:193] This TensorFlow binary is optimized with oneAPI Deep Neural Network Library (oneDNN) to use the following CPU instructions in performance-critical operations:  AVX2 FMA\n",
      "To enable them in other operations, rebuild TensorFlow with the appropriate compiler flags.\n"
     ]
    },
    {
     "name": "stdout",
     "output_type": "stream",
     "text": [
      "Model: \"sequential\"\n",
      "_________________________________________________________________\n",
      " Layer (type)                Output Shape              Param #   \n",
      "=================================================================\n",
      " lstm (LSTM)                 (None, 11720, 64)         16896     \n",
      "                                                                 \n",
      " dropout (Dropout)           (None, 11720, 64)         0         \n",
      "                                                                 \n",
      " lstm_1 (LSTM)               (None, 11720, 32)         12416     \n",
      "                                                                 \n",
      " dropout_1 (Dropout)         (None, 11720, 32)         0         \n",
      "                                                                 \n",
      " lstm_2 (LSTM)               (None, 11720, 16)         3136      \n",
      "                                                                 \n",
      " dropout_2 (Dropout)         (None, 11720, 16)         0         \n",
      "                                                                 \n",
      " lstm_3 (LSTM)               (None, 11720, 8)          800       \n",
      "                                                                 \n",
      " dropout_3 (Dropout)         (None, 11720, 8)          0         \n",
      "                                                                 \n",
      " output (LSTM)               (None, 11720, 1)          40        \n",
      "                                                                 \n",
      " flatten (Flatten)           (None, 11720)             0         \n",
      "                                                                 \n",
      " dense (Dense)               (None, 1)                 11721     \n",
      "                                                                 \n",
      "=================================================================\n",
      "Total params: 45,009\n",
      "Trainable params: 45,009\n",
      "Non-trainable params: 0\n",
      "_________________________________________________________________\n"
     ]
    }
   ],
   "source": [
    "from keras import Sequential\n",
    "from keras.layers import LSTM\n",
    "\n",
    "model_lstm = Sequential()\n",
    "\n",
    "model_lstm.add(LSTM(64, input_shape = x_tfidf.shape[1:], return_sequences = True))\n",
    "model_lstm.add(MaxPooling1D(pool_size = (5), padding = 'same'))\n",
    "model_lstm.add(Dropout(rate=0.8))\n",
    "\n",
    "model_lstm.add(LSTM(32, return_sequences=True))\n",
    "model_lstm.add(MaxPooling1D(pool_size = (5), padding = 'same'))\n",
    "model_lstm.add(Dropout(rate=0.5))\n",
    "\n",
    "model_lstm.add(LSTM(16, return_sequences=True))\n",
    "model_lstm.add(MaxPooling1D(pool_size = (5), padding = 'same'))\n",
    "model_lstm.add(Dropout(rate=0.5))\n",
    "\n",
    "model_lstm.add(LSTM(8, return_sequences=True))\n",
    "model_lstm.add(MaxPooling1D(pool_size = (5), padding = 'same'))\n",
    "model_lstm.add(Dropout(rate=0.5))\n",
    "\n",
    "model_lstm.add(LSTM(1, return_sequences=True, name='output'))\n",
    "model_lstm.add(MaxPooling1D(pool_size = (5), padding = 'same'))\n",
    "model_lstm.add(Dropout(rate=0.5))\n",
    "\n",
    "model_lstm.add(Dense(64, activation = 'relu'))\n",
    "model_lstm.add(Flatten())\n",
    "model_lstm.add(Dense(1, activation='softmax'))\n",
    "\n",
    "model_lstm.compile(optimizer='adam', loss='categorical_crossentropy', metrics = ['accuracy'])\n",
    "\n",
    "model_lstm.summary()"
   ]
  },
  {
   "cell_type": "code",
   "execution_count": 33,
   "metadata": {},
   "outputs": [
    {
     "name": "stdout",
     "output_type": "stream",
     "text": [
      "Epoch 1/5\n",
      "4/7 [================>.............] - ETA: 2:36 - loss: 0.6169 - accuracy: 0.0859"
     ]
    }
   ],
   "source": [
    "batch_size = 32\n",
    "\n",
    "model_lstm.fit(x_tfidf, y,\n",
    "            batch_size=batch_size,\n",
    "            epochs=10,\n",
    "            shuffle=True)"
   ]
  },
  {
   "attachments": {},
   "cell_type": "markdown",
   "metadata": {},
   "source": [
    "# CNN LSTM"
   ]
  },
  {
   "cell_type": "code",
   "execution_count": null,
   "metadata": {},
   "outputs": [],
   "source": [
    "from keras import Sequential\n",
    "from keras.layers import LSTM\n",
    "\n",
    "model_clstm  =  Sequential()\n",
    "\n",
    "model_clstm.add(Conv1D(32, (3), padding = 'same', activation = 'relu', input_shape = x_tfidf.shape[1:]))\n",
    "model_clstm.add(MaxPooling1D(pool_size = (5), padding = 'same'))\n",
    "model_clstm.add(Dropout(rate = 0.8))\n",
    "\n",
    "model_clstm.add(Conv1D(16, (3), padding = 'same', activation = 'relu', input_shape = x_tfidf.shape[1:]))\n",
    "model_clstm.add(MaxPooling1D(pool_size = (5), padding = 'same'))\n",
    "model_clstm.add(Dropout(rate = 0.8))\n",
    "\n",
    "model_clstm.add(Conv1D(8, (3), padding = 'same', activation = 'relu', input_shape = x_tfidf.shape[1:]))\n",
    "model_clstm.add(MaxPooling1D(pool_size = (5), padding = 'same'))\n",
    "model_clstm.add(Dropout(rate = 0.8))\n",
    "\n",
    "model_clstm.add(LSTM(32, return_sequences = True))\n",
    "model_clstm.add(MaxPooling1D(pool_size = (5), padding = 'same'))\n",
    "model_clstm.add(Dropout(rate = 0.5))\n",
    "\n",
    "model_clstm.add(LSTM(16, return_sequences = True))\n",
    "model_clstm.add(MaxPooling1D(pool_size = (5), padding = 'same'))\n",
    "model_clstm.add(Dropout(rate = 0.5))\n",
    "\n",
    "model_clstm.add(LSTM(1, return_sequences = True))\n",
    "model_clstm.add(MaxPooling1D(pool_size = (5), padding = 'same'))\n",
    "model_clstm.add(Dropout(rate = 0.5))\n",
    "\n",
    "model_clstm.add(Dense(64, activation = 'relu'))\n",
    "model_clstm.add(Flatten())\n",
    "model_clstm.add(Dense(1, activation = 'softmax'))\n",
    "\n",
    "model_clstm.compile(optimizer = 'adam', loss = 'categorical_crossentropy', metrics = ['accuracy'])\n",
    "\n",
    "model_clstm.summary()"
   ]
  },
  {
   "cell_type": "code",
   "execution_count": null,
   "metadata": {},
   "outputs": [],
   "source": [
    "batch_size = 32\n",
    "\n",
    "model_clstm.fit(x_tfidf, y,\n",
    "            batch_size=batch_size,\n",
    "            epochs=10,\n",
    "            shuffle=True)"
   ]
  },
  {
   "attachments": {},
   "cell_type": "markdown",
   "metadata": {},
   "source": [
    "# Bi-LSTM"
   ]
  },
  {
   "cell_type": "code",
   "execution_count": null,
   "metadata": {},
   "outputs": [],
   "source": [
    "\n",
    "from keras import Sequential\n",
    "from keras.layers import LSTM, Embedding, Bidirectional\n",
    "\n",
    "\n",
    "model_bilstm  =  Sequential()\n",
    "\n",
    "model_bilstm.add(Bidirectional(LSTM(32, input_shape = x_tfidf.shape[1:], return_sequences=True)))\n",
    "model_bilstm.add(MaxPooling1D(pool_size = (5), padding = 'same'))\n",
    "model_bilstm.add(Dropout(rate = 0.5))\n",
    "\n",
    "model_bilstm.add(Bidirectional(LSTM(16, return_sequences=True)))\n",
    "model_bilstm.add(MaxPooling1D(pool_size = (5), padding = 'same'))\n",
    "model_bilstm.add(Dropout(rate = 0.5))\n",
    "\n",
    "model_bilstm.add(Bidirectional(LSTM(1, return_sequences=True)))\n",
    "model_bilstm.add(MaxPooling1D(pool_size = (5), padding = 'same'))\n",
    "model_bilstm.add(Dropout(rate = 0.5))\n",
    "\n",
    "model_bilstm.add(Dense(64, activation = 'relu'))\n",
    "model_bilstm.add(Flatten())\n",
    "model_bilstm.add(Dense(1, activation = 'softmax'))\n",
    "\n",
    "model_bilstm.compile(optimizer = 'adam', loss = 'categorical_crossentropy', metrics = ['accuracy'])\n",
    "\n",
    "model_bilstm.summary()"
   ]
  },
  {
   "cell_type": "code",
   "execution_count": null,
   "metadata": {},
   "outputs": [],
   "source": [
    "batch_size = 32\n",
    "\n",
    "model_bilstm.fit(x_tfidf, y,\n",
    "            batch_size=batch_size,\n",
    "            epochs=10,\n",
    "            shuffle=True)"
   ]
  }
 ],
 "metadata": {
  "kernelspec": {
   "display_name": "Python 3",
   "language": "python",
   "name": "python3"
  },
  "language_info": {
   "codemirror_mode": {
    "name": "ipython",
    "version": 3
   },
   "file_extension": ".py",
   "mimetype": "text/x-python",
   "name": "python",
   "nbconvert_exporter": "python",
   "pygments_lexer": "ipython3",
   "version": "3.10.4 (v3.10.4:9d38120e33, Mar 23 2022, 17:29:05) [Clang 13.0.0 (clang-1300.0.29.30)]"
  },
  "orig_nbformat": 4,
  "vscode": {
   "interpreter": {
    "hash": "aee8b7b246df8f9039afb4144a1f6fd8d2ca17a180786b69acc140d282b71a49"
   }
  }
 },
 "nbformat": 4,
 "nbformat_minor": 2
}
